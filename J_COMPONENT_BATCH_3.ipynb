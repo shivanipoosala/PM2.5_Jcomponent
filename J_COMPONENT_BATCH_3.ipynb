{
  "nbformat": 4,
  "nbformat_minor": 0,
  "metadata": {
    "colab": {
      "name": "J-COMPONENT-BATCH-3",
      "provenance": [],
      "collapsed_sections": []
    },
    "kernelspec": {
      "name": "python3",
      "display_name": "Python 3"
    },
    "language_info": {
      "name": "python"
    }
  },
  "cells": [
    {
      "cell_type": "code",
      "metadata": {
        "colab": {
          "base_uri": "https://localhost:8080/"
        },
        "id": "7Tw2Y3G3MXk-",
        "outputId": "3b57bf29-67fc-42a1-a675-8d0c2cd391a2"
      },
      "source": [
        "import pandas as pd\n",
        "d=pd.read_csv('/content/data_set.csv')\n",
        "print(d)"
      ],
      "execution_count": 12,
      "outputs": [
        {
          "output_type": "stream",
          "name": "stdout",
          "text": [
            "          No  year  month  day  hour  pm2.5  ...  TEMP    PRES  cbwd     Iws  Is  Ir\n",
            "0          1  2010      1    1     0    NaN  ... -11.0  1021.0    NW    1.79   0   0\n",
            "1          2  2010      1    1     1    NaN  ... -12.0  1020.0    NW    4.92   0   0\n",
            "2          3  2010      1    1     2    NaN  ... -11.0  1019.0    NW    6.71   0   0\n",
            "3          4  2010      1    1     3    NaN  ... -14.0  1019.0    NW    9.84   0   0\n",
            "4          5  2010      1    1     4    NaN  ... -12.0  1018.0    NW   12.97   0   0\n",
            "...      ...   ...    ...  ...   ...    ...  ...   ...     ...   ...     ...  ..  ..\n",
            "43819  43820  2014     12   31    19    8.0  ...  -2.0  1034.0    NW  231.97   0   0\n",
            "43820  43821  2014     12   31    20   10.0  ...  -3.0  1034.0    NW  237.78   0   0\n",
            "43821  43822  2014     12   31    21   10.0  ...  -3.0  1034.0    NW  242.70   0   0\n",
            "43822  43823  2014     12   31    22    8.0  ...  -4.0  1034.0    NW  246.72   0   0\n",
            "43823  43824  2014     12   31    23   12.0  ...  -3.0  1034.0    NW  249.85   0   0\n",
            "\n",
            "[43824 rows x 13 columns]\n"
          ]
        }
      ]
    },
    {
      "cell_type": "code",
      "metadata": {
        "colab": {
          "base_uri": "https://localhost:8080/"
        },
        "id": "aEwuX7b6NqYR",
        "outputId": "f48d8b93-8a11-4c2e-fb8a-68d27a0d8d92"
      },
      "source": [
        "x1=d['year']\n",
        "y=d['pm2.5']\n",
        "print(x1,y)"
      ],
      "execution_count": 13,
      "outputs": [
        {
          "output_type": "stream",
          "name": "stdout",
          "text": [
            "0        2010\n",
            "1        2010\n",
            "2        2010\n",
            "3        2010\n",
            "4        2010\n",
            "         ... \n",
            "43819    2014\n",
            "43820    2014\n",
            "43821    2014\n",
            "43822    2014\n",
            "43823    2014\n",
            "Name: year, Length: 43824, dtype: int64 0         NaN\n",
            "1         NaN\n",
            "2         NaN\n",
            "3         NaN\n",
            "4         NaN\n",
            "         ... \n",
            "43819     8.0\n",
            "43820    10.0\n",
            "43821    10.0\n",
            "43822     8.0\n",
            "43823    12.0\n",
            "Name: pm2.5, Length: 43824, dtype: float64\n"
          ]
        }
      ]
    },
    {
      "cell_type": "code",
      "metadata": {
        "id": "zbc9V1_syt5o",
        "colab": {
          "base_uri": "https://localhost:8080/"
        },
        "outputId": "c14a2414-e282-4e76-b3c2-f61a67341918"
      },
      "source": [
        "x1=x1.fillna(0)\n",
        "print(x1)"
      ],
      "execution_count": 14,
      "outputs": [
        {
          "output_type": "stream",
          "name": "stdout",
          "text": [
            "0        2010\n",
            "1        2010\n",
            "2        2010\n",
            "3        2010\n",
            "4        2010\n",
            "         ... \n",
            "43819    2014\n",
            "43820    2014\n",
            "43821    2014\n",
            "43822    2014\n",
            "43823    2014\n",
            "Name: year, Length: 43824, dtype: int64\n"
          ]
        }
      ]
    },
    {
      "cell_type": "code",
      "metadata": {
        "id": "HhNreJeZSQKc"
      },
      "source": [
        "ee=[]\n",
        "import numpy as np\n",
        "mm=[]\n",
        "cc=[]\n",
        "def liner(m1,c):\n",
        "  ye=[]\n",
        "  yp=[]\n",
        "  sum=0\n",
        "  mm.append(m1)\n",
        "  cc.append(c)\n",
        "  for i in range(0,len(x1)):\n",
        "    yp.append(m1*x1[i]+c)\n",
        "    ye.append((y[i]-yp[i])**2)\n",
        "  for i in range(0,len(x1)):\n",
        "    sum=sum+ye[i]\n",
        "  ee1=np.mod(sum,len(x1))\n",
        "  print(ee1) \n",
        "  ee.append(ee1)"
      ],
      "execution_count": 15,
      "outputs": []
    },
    {
      "cell_type": "code",
      "metadata": {
        "id": "NnMNM7q3zjIi",
        "colab": {
          "base_uri": "https://localhost:8080/"
        },
        "outputId": "07cff3fa-9fea-4829-f580-a6039944bbe0"
      },
      "source": [
        "y=y.fillna(0)\n",
        "print(y)"
      ],
      "execution_count": 21,
      "outputs": [
        {
          "output_type": "stream",
          "name": "stdout",
          "text": [
            "0         0.0\n",
            "1         0.0\n",
            "2         0.0\n",
            "3         0.0\n",
            "4         0.0\n",
            "         ... \n",
            "43819     8.0\n",
            "43820    10.0\n",
            "43821    10.0\n",
            "43822     8.0\n",
            "43823    12.0\n",
            "Name: pm2.5, Length: 43824, dtype: float64\n"
          ]
        }
      ]
    },
    {
      "cell_type": "code",
      "metadata": {
        "id": "uF1DKCKvW2AI",
        "colab": {
          "base_uri": "https://localhost:8080/"
        },
        "outputId": "1c018226-80ad-4dc9-e877-b76c9bbfc7e8"
      },
      "source": [
        "a=np.array(ee).min()\n",
        "print(a)\n",
        "ind=ee.index(a)\n",
        "print(ind)\n",
        "print(mm[ind],cc[ind])\n",
        "print(len(ee))\n",
        "print(\"lll\",ee[43])"
      ],
      "execution_count": 24,
      "outputs": [
        {
          "output_type": "stream",
          "name": "stdout",
          "text": [
            "1724.0\n",
            "43\n",
            "53 73\n",
            "50\n",
            "lll 1724.0\n"
          ]
        }
      ]
    },
    {
      "cell_type": "code",
      "metadata": {
        "colab": {
          "base_uri": "https://localhost:8080/"
        },
        "id": "rbUiOF52TRzd",
        "outputId": "c1593140-db13-499f-da07-7a5551e77494"
      },
      "source": [
        "for i in range(0,50):\n",
        "  liner(i+10,i+30)"
      ],
      "execution_count": 18,
      "outputs": [
        {
          "output_type": "stream",
          "name": "stdout",
          "text": [
            "22146.0\n",
            "42032.0\n",
            "17998.0\n",
            "37692.0\n",
            "13466.0\n",
            "32968.0\n",
            "8550.0\n",
            "27860.0\n",
            "3250.0\n",
            "22368.0\n",
            "41390.0\n",
            "16492.0\n",
            "35322.0\n",
            "10232.0\n",
            "28870.0\n",
            "3588.0\n",
            "22034.0\n",
            "40384.0\n",
            "14814.0\n",
            "32972.0\n",
            "7210.0\n",
            "25176.0\n",
            "43046.0\n",
            "16996.0\n",
            "34674.0\n",
            "8432.0\n",
            "25918.0\n",
            "43308.0\n",
            "16778.0\n",
            "33976.0\n",
            "7254.0\n",
            "24260.0\n",
            "41170.0\n",
            "14160.0\n",
            "30878.0\n",
            "3676.0\n",
            "20202.0\n",
            "36632.0\n",
            "9142.0\n",
            "25380.0\n",
            "41522.0\n",
            "13744.0\n",
            "29694.0\n",
            "1724.0\n",
            "17482.0\n",
            "33144.0\n",
            "4886.0\n",
            "20356.0\n",
            "35730.0\n",
            "7184.0\n"
          ]
        }
      ]
    },
    {
      "cell_type": "code",
      "metadata": {
        "colab": {
          "base_uri": "https://localhost:8080/",
          "height": 282
        },
        "id": "iKOzn1ZUTsBz",
        "outputId": "4bc493e0-3b68-4880-bcb0-7216d1af8d7c"
      },
      "source": [
        "from matplotlib import pyplot as pt\n",
        "import numpy as np\n",
        "x=[]\n",
        "for i in range(0,50):\n",
        "  x.append(i)\n",
        "pt.plot(x,ee)"
      ],
      "execution_count": 25,
      "outputs": [
        {
          "output_type": "execute_result",
          "data": {
            "text/plain": [
              "[<matplotlib.lines.Line2D at 0x7f52ede773d0>]"
            ]
          },
          "metadata": {},
          "execution_count": 25
        },
        {
          "output_type": "display_data",
          "data": {
            "image/png": "[encoded data removed]",
            "text/plain": [
              "<Figure size 432x288 with 1 Axes>"
            ]
          },
          "metadata": {
            "needs_background": "light"
          }
        }
      ]
    },
    {
      "cell_type": "code",
      "metadata": {
        "colab": {
          "base_uri": "https://localhost:8080/",
          "height": 282
        },
        "id": "L3ur-DHdUN3H",
        "outputId": "2f5dde22-3638-46fe-ed41-51afa289c0b3"
      },
      "source": [
        "from matplotlib import pyplot as plt\n",
        "plt.scatter(x1,y)"
      ],
      "execution_count": 26,
      "outputs": [
        {
          "output_type": "execute_result",
          "data": {
            "text/plain": [
              "<matplotlib.collections.PathCollection at 0x7f52edf33ad0>"
            ]
          },
          "metadata": {},
          "execution_count": 26
        },
        {
          "output_type": "display_data",
          "data": {
            "image/png": "[encoded data removed]",
            "text/plain": [
              "<Figure size 432x288 with 1 Axes>"
            ]
          },
          "metadata": {
            "needs_background": "light"
          }
        }
      ]
    },
    {
      "cell_type": "code",
      "metadata": {
        "colab": {
          "base_uri": "https://localhost:8080/"
        },
        "id": "wNUhNcwiN5Mz",
        "outputId": "c59aeed6-becc-4792-c583-f7d6443fc1cd"
      },
      "source": [
        "x2=d['month']\n",
        "y=d['pm2.5']\n",
        "print(x2,y)"
      ],
      "execution_count": 35,
      "outputs": [
        {
          "output_type": "stream",
          "name": "stdout",
          "text": [
            "0         1\n",
            "1         1\n",
            "2         1\n",
            "3         1\n",
            "4         1\n",
            "         ..\n",
            "43819    12\n",
            "43820    12\n",
            "43821    12\n",
            "43822    12\n",
            "43823    12\n",
            "Name: month, Length: 43824, dtype: int64 0         NaN\n",
            "1         NaN\n",
            "2         NaN\n",
            "3         NaN\n",
            "4         NaN\n",
            "         ... \n",
            "43819     8.0\n",
            "43820    10.0\n",
            "43821    10.0\n",
            "43822     8.0\n",
            "43823    12.0\n",
            "Name: pm2.5, Length: 43824, dtype: float64\n"
          ]
        }
      ]
    },
    {
      "cell_type": "code",
      "metadata": {
        "id": "n4xeJVgFSz-E"
      },
      "source": [
        "ee=[]\n",
        "import numpy as np\n",
        "mm=[]\n",
        "cc=[]\n",
        "def liner(m1,m2,c):\n",
        "  ye=[]\n",
        "  yp=[]\n",
        "  sum=0\n",
        "  mm.append(m1)\n",
        "  cc.append(c)\n",
        "  for i in range(0,len(x1)):\n",
        "    yp.append(m1*x1[i]+m1*x2[i]+c)\n",
        "    ye.append((y[i]-yp[i])**2)\n",
        "  for i in range(0,len(x1)):\n",
        "    sum=sum+ye[i]\n",
        "  ee1=np.mod(sum,len(x1))\n",
        "  print(ee1) \n",
        "  ee.append(ee1)\n"
      ],
      "execution_count": 36,
      "outputs": []
    },
    {
      "cell_type": "code",
      "metadata": {
        "colab": {
          "base_uri": "https://localhost:8080/"
        },
        "id": "Rcy8DFQ8rGt2",
        "outputId": "480d4c35-a992-4ffd-f6cf-2dd9af00c99b"
      },
      "source": [
        "y=y.fillna(0)\n",
        "print(y)"
      ],
      "execution_count": 39,
      "outputs": [
        {
          "output_type": "stream",
          "name": "stdout",
          "text": [
            "0         0.0\n",
            "1         0.0\n",
            "2         0.0\n",
            "3         0.0\n",
            "4         0.0\n",
            "         ... \n",
            "43819     8.0\n",
            "43820    10.0\n",
            "43821    10.0\n",
            "43822     8.0\n",
            "43823    12.0\n",
            "Name: pm2.5, Length: 43824, dtype: float64\n"
          ]
        }
      ]
    },
    {
      "cell_type": "code",
      "metadata": {
        "colab": {
          "base_uri": "https://localhost:8080/"
        },
        "id": "1095cMNCU1vd",
        "outputId": "fe6225f3-f9fb-455f-d2de-c5c4f1ef79cd"
      },
      "source": [
        "a=np.array(ee).min()\n",
        "print(a)\n",
        "ind=ee.index(a)\n",
        "print(ind)\n",
        "print(mm[ind],cc[ind])\n",
        "print(len(ee))\n",
        "print(\"lll\",ee[19])"
      ],
      "execution_count": 40,
      "outputs": [
        {
          "output_type": "stream",
          "name": "stdout",
          "text": [
            "664.0\n",
            "19\n",
            "29 38\n",
            "50\n",
            "lll 664.0\n"
          ]
        }
      ]
    },
    {
      "cell_type": "code",
      "metadata": {
        "colab": {
          "base_uri": "https://localhost:8080/"
        },
        "id": "ltflg5clVANV",
        "outputId": "81cc4955-ba14-456b-a75e-b0f9f9a22e1f"
      },
      "source": [
        "for i in range(0,50):\n",
        "  liner(i+10,i+20,i+i)"
      ],
      "execution_count": 38,
      "outputs": [
        {
          "output_type": "stream",
          "name": "stdout",
          "text": [
            "2810.0\n",
            "22564.0\n",
            "24990.0\n",
            "10088.0\n",
            "21682.0\n",
            "15948.0\n",
            "36710.0\n",
            "40144.0\n",
            "26250.0\n",
            "38852.0\n",
            "34126.0\n",
            "12072.0\n",
            "16514.0\n",
            "3628.0\n",
            "17238.0\n",
            "13520.0\n",
            "36298.0\n",
            "41748.0\n",
            "29870.0\n",
            "664.0\n",
            "41778.0\n",
            "21740.0\n",
            "28198.0\n",
            "17328.0\n",
            "32954.0\n",
            "31252.0\n",
            "12222.0\n",
            "19688.0\n",
            "9826.0\n",
            "26460.0\n",
            "25766.0\n",
            "7744.0\n",
            "16218.0\n",
            "7364.0\n",
            "25006.0\n",
            "25320.0\n",
            "8306.0\n",
            "17788.0\n",
            "9942.0\n",
            "28592.0\n",
            "29914.0\n",
            "13908.0\n",
            "24398.0\n",
            "17560.0\n",
            "37218.0\n",
            "39548.0\n",
            "24550.0\n",
            "36048.0\n",
            "30218.0\n",
            "7060.0\n"
          ]
        }
      ]
    },
    {
      "cell_type": "code",
      "metadata": {
        "colab": {
          "base_uri": "https://localhost:8080/",
          "height": 282
        },
        "id": "CJumLez6VYbP",
        "outputId": "becab8f2-5589-4bad-a9c4-f382ebb445ae"
      },
      "source": [
        "from matplotlib import pyplot as pt\n",
        "import numpy as np\n",
        "x=[]\n",
        "for i in range(0,50):\n",
        "  x.append(i)\n",
        "pt.plot(x,ee)"
      ],
      "execution_count": 41,
      "outputs": [
        {
          "output_type": "execute_result",
          "data": {
            "text/plain": [
              "[<matplotlib.lines.Line2D at 0x7f52ee016590>]"
            ]
          },
          "metadata": {},
          "execution_count": 41
        },
        {
          "output_type": "display_data",
          "data": {
            "image/png": "[encoded data removed]",
            "text/plain": [
              "<Figure size 432x288 with 1 Axes>"
            ]
          },
          "metadata": {
            "needs_background": "light"
          }
        }
      ]
    },
    {
      "cell_type": "code",
      "metadata": {
        "colab": {
          "base_uri": "https://localhost:8080/",
          "height": 282
        },
        "id": "7c9-CjftWi8S",
        "outputId": "2dd1555f-82f9-4992-e485-64947279b3fa"
      },
      "source": [
        "from matplotlib import pyplot as plt\n",
        "plt.scatter(x2,y)"
      ],
      "execution_count": 42,
      "outputs": [
        {
          "output_type": "execute_result",
          "data": {
            "text/plain": [
              "<matplotlib.collections.PathCollection at 0x7f52edf33890>"
            ]
          },
          "metadata": {},
          "execution_count": 42
        },
        {
          "output_type": "display_data",
          "data": {
            "image/png": "[encoded data removed]",
            "text/plain": [
              "<Figure size 432x288 with 1 Axes>"
            ]
          },
          "metadata": {
            "needs_background": "light"
          }
        }
      ]
    },
    {
      "cell_type": "code",
      "metadata": {
        "colab": {
          "base_uri": "https://localhost:8080/"
        },
        "id": "ouEPrjQuXZdU",
        "outputId": "3eee4751-2bdf-41e3-b40b-c4241eec9504"
      },
      "source": [
        "x3=d['day']\n",
        "y=d['pm2.5']\n",
        "print(x3,y)"
      ],
      "execution_count": 43,
      "outputs": [
        {
          "output_type": "stream",
          "name": "stdout",
          "text": [
            "0         1\n",
            "1         1\n",
            "2         1\n",
            "3         1\n",
            "4         1\n",
            "         ..\n",
            "43819    31\n",
            "43820    31\n",
            "43821    31\n",
            "43822    31\n",
            "43823    31\n",
            "Name: day, Length: 43824, dtype: int64 0         NaN\n",
            "1         NaN\n",
            "2         NaN\n",
            "3         NaN\n",
            "4         NaN\n",
            "         ... \n",
            "43819     8.0\n",
            "43820    10.0\n",
            "43821    10.0\n",
            "43822     8.0\n",
            "43823    12.0\n",
            "Name: pm2.5, Length: 43824, dtype: float64\n"
          ]
        }
      ]
    },
    {
      "cell_type": "code",
      "metadata": {
        "id": "GSbuA2msXwR1"
      },
      "source": [
        "ee=[]\n",
        "import numpy as np\n",
        "mm=[]\n",
        "cc=[]\n",
        "def liner(m1,m2,m3,c):\n",
        "  ye=[]\n",
        "  yp=[]\n",
        "  sum=0\n",
        "  mm.append(m1)\n",
        "  cc.append(c)\n",
        "  \n",
        "  for i in range(0,len(x1)):\n",
        "    yp.append(m1*x1[i]+m2*x2[i]+m3*x3[i]+c)\n",
        "    ye.append((y[i]-yp[i])**2)\n",
        "  for i in range(0,len(x1)):\n",
        "    sum=sum+ye[i]\n",
        "  ee1=np.mod(sum,len(x1))\n",
        "  ee.append(ee1)\n",
        "  print(ee1)"
      ],
      "execution_count": 44,
      "outputs": []
    },
    {
      "cell_type": "code",
      "metadata": {
        "colab": {
          "base_uri": "https://localhost:8080/"
        },
        "id": "-I0HsxteX7XQ",
        "outputId": "fe2e6c54-e218-4bb9-d1ba-a3272fb7d872"
      },
      "source": [
        "a=np.array(ee).min()\n",
        "print(a)\n",
        "ind=ee.index(a)\n",
        "print(ind)\n",
        "print(mm[ind],cc[ind])\n",
        "print(len(ee))\n",
        "print(\"lll\",ee[68])"
      ],
      "execution_count": 48,
      "outputs": [
        {
          "output_type": "stream",
          "name": "stdout",
          "text": [
            "186.0\n",
            "68\n",
            "118 69\n",
            "100\n",
            "lll 186.0\n"
          ]
        }
      ]
    },
    {
      "cell_type": "code",
      "metadata": {
        "colab": {
          "base_uri": "https://localhost:8080/"
        },
        "id": "T8FQbFhZYaS9",
        "outputId": "56a734af-04f9-49ac-86bb-d1685d1816cb"
      },
      "source": [
        "y=y.fillna(0)\n",
        "print(y)"
      ],
      "execution_count": 47,
      "outputs": [
        {
          "output_type": "stream",
          "name": "stdout",
          "text": [
            "0         0.0\n",
            "1         0.0\n",
            "2         0.0\n",
            "3         0.0\n",
            "4         0.0\n",
            "         ... \n",
            "43819     8.0\n",
            "43820    10.0\n",
            "43821    10.0\n",
            "43822     8.0\n",
            "43823    12.0\n",
            "Name: pm2.5, Length: 43824, dtype: float64\n"
          ]
        }
      ]
    },
    {
      "cell_type": "code",
      "metadata": {
        "colab": {
          "base_uri": "https://localhost:8080/"
        },
        "id": "sONdP7WQYJfJ",
        "outputId": "b91827a1-0e2a-45a3-baca-331e340f16e8"
      },
      "source": [
        "for i in range(0,100):\n",
        "  liner(i+50,i+100,i+i,i+1)"
      ],
      "execution_count": 46,
      "outputs": [
        {
          "output_type": "stream",
          "name": "stdout",
          "text": [
            "40930.0\n",
            "32564.0\n",
            "28566.0\n",
            "28936.0\n",
            "33674.0\n",
            "42780.0\n",
            "12430.0\n",
            "30272.0\n",
            "8658.0\n",
            "35236.0\n",
            "22358.0\n",
            "13848.0\n",
            "9706.0\n",
            "9932.0\n",
            "14526.0\n",
            "23488.0\n",
            "36818.0\n",
            "10692.0\n",
            "32758.0\n",
            "15368.0\n",
            "2346.0\n",
            "37516.0\n",
            "33230.0\n",
            "33312.0\n",
            "37762.0\n",
            "2756.0\n",
            "15942.0\n",
            "33496.0\n",
            "11594.0\n",
            "37884.0\n",
            "24718.0\n",
            "15920.0\n",
            "11490.0\n",
            "11428.0\n",
            "15734.0\n",
            "24408.0\n",
            "37450.0\n",
            "11036.0\n",
            "32814.0\n",
            "15136.0\n",
            "1826.0\n",
            "36708.0\n",
            "32134.0\n",
            "31928.0\n",
            "36090.0\n",
            "796.0\n",
            "13694.0\n",
            "30960.0\n",
            "8770.0\n",
            "34772.0\n",
            "21318.0\n",
            "12232.0\n",
            "7514.0\n",
            "7164.0\n",
            "11182.0\n",
            "19568.0\n",
            "32322.0\n",
            "5620.0\n",
            "27110.0\n",
            "9144.0\n",
            "39370.0\n",
            "30140.0\n",
            "25278.0\n",
            "24784.0\n",
            "28658.0\n",
            "36900.0\n",
            "5686.0\n",
            "22664.0\n",
            "186.0\n",
            "25900.0\n",
            "12158.0\n",
            "2784.0\n",
            "41602.0\n",
            "40964.0\n",
            "870.0\n",
            "8968.0\n",
            "21434.0\n",
            "38268.0\n",
            "15646.0\n",
            "41216.0\n",
            "27330.0\n",
            "17812.0\n",
            "12662.0\n",
            "11880.0\n",
            "15466.0\n",
            "23420.0\n",
            "35742.0\n",
            "8608.0\n",
            "29666.0\n",
            "11268.0\n",
            "41062.0\n",
            "31400.0\n",
            "26106.0\n",
            "25180.0\n",
            "28622.0\n",
            "36432.0\n",
            "4786.0\n",
            "21332.0\n",
            "42246.0\n",
            "23704.0\n"
          ]
        }
      ]
    },
    {
      "cell_type": "code",
      "metadata": {
        "colab": {
          "base_uri": "https://localhost:8080/",
          "height": 282
        },
        "id": "hOuA_d9tb37z",
        "outputId": "5f4a56dc-ce23-449d-8b06-224fc87615e6"
      },
      "source": [
        "from matplotlib import pyplot as pt\n",
        "import numpy as np\n",
        "x=[]\n",
        "for i in range(0,100):\n",
        "  x.append(i)\n",
        "pt.plot(x,ee)"
      ],
      "execution_count": 49,
      "outputs": [
        {
          "output_type": "execute_result",
          "data": {
            "text/plain": [
              "[<matplotlib.lines.Line2D at 0x7f52ed7b85d0>]"
            ]
          },
          "metadata": {},
          "execution_count": 49
        },
        {
          "output_type": "display_data",
          "data": {
            "image/png": "[encoded data removed]",
            "text/plain": [
              "<Figure size 432x288 with 1 Axes>"
            ]
          },
          "metadata": {
            "needs_background": "light"
          }
        }
      ]
    },
    {
      "cell_type": "code",
      "metadata": {
        "colab": {
          "base_uri": "https://localhost:8080/",
          "height": 282
        },
        "id": "TwCJnc0OcAC-",
        "outputId": "d98fe489-5661-447f-bbb8-62378ffbb2ce"
      },
      "source": [
        "from matplotlib import pyplot as plt\n",
        "plt.scatter(x3,y)"
      ],
      "execution_count": 50,
      "outputs": [
        {
          "output_type": "execute_result",
          "data": {
            "text/plain": [
              "<matplotlib.collections.PathCollection at 0x7f52ede3f450>"
            ]
          },
          "metadata": {},
          "execution_count": 50
        },
        {
          "output_type": "display_data",
          "data": {
            "image/png": "[encoded data removed]",
            "text/plain": [
              "<Figure size 432x288 with 1 Axes>"
            ]
          },
          "metadata": {
            "needs_background": "light"
          }
        }
      ]
    },
    {
      "cell_type": "code",
      "metadata": {
        "colab": {
          "base_uri": "https://localhost:8080/"
        },
        "id": "eyJD0P_8Q4ph",
        "outputId": "4d6b9e91-38b6-4349-dcfc-403023aeb448"
      },
      "source": [
        "x4=d['hour']\n",
        "y=d['pm2.5']\n",
        "print(x4,y)"
      ],
      "execution_count": 51,
      "outputs": [
        {
          "output_type": "stream",
          "name": "stdout",
          "text": [
            "0         0\n",
            "1         1\n",
            "2         2\n",
            "3         3\n",
            "4         4\n",
            "         ..\n",
            "43819    19\n",
            "43820    20\n",
            "43821    21\n",
            "43822    22\n",
            "43823    23\n",
            "Name: hour, Length: 43824, dtype: int64 0         NaN\n",
            "1         NaN\n",
            "2         NaN\n",
            "3         NaN\n",
            "4         NaN\n",
            "         ... \n",
            "43819     8.0\n",
            "43820    10.0\n",
            "43821    10.0\n",
            "43822     8.0\n",
            "43823    12.0\n",
            "Name: pm2.5, Length: 43824, dtype: float64\n"
          ]
        }
      ]
    },
    {
      "cell_type": "code",
      "metadata": {
        "id": "D0WIzNXMcIX5"
      },
      "source": [
        "ee=[]\n",
        "import numpy as np\n",
        "mm=[]\n",
        "cc=[]\n",
        "def liner(m1,m2,m3,m4,c):\n",
        "  ye=[]\n",
        "  yp=[]\n",
        "  sum=0\n",
        "  mm.append(m1)\n",
        "  cc.append(c)\n",
        "  \n",
        "  for i in range(0,len(x1)):\n",
        "    yp.append(m1*x1[i]+m2*x2[i]+m3*x3[i]+m4*x4[i]+c)\n",
        "    ye.append((y[i]-yp[i])**2)\n",
        "  for i in range(0,len(x1)):\n",
        "    sum=sum+ye[i]\n",
        "  ee1=np.mod(sum,len(x1))\n",
        "  ee.append(ee1)\n",
        "  print(ee1)"
      ],
      "execution_count": 52,
      "outputs": []
    },
    {
      "cell_type": "code",
      "metadata": {
        "colab": {
          "base_uri": "https://localhost:8080/"
        },
        "id": "sjESrqkhcYPG",
        "outputId": "d97da0b2-9e4d-4895-d399-88694d1148c6"
      },
      "source": [
        "y=y.fillna(0)\n",
        "print(y)\n"
      ],
      "execution_count": 53,
      "outputs": [
        {
          "output_type": "stream",
          "name": "stdout",
          "text": [
            "0         0.0\n",
            "1         0.0\n",
            "2         0.0\n",
            "3         0.0\n",
            "4         0.0\n",
            "         ... \n",
            "43819     8.0\n",
            "43820    10.0\n",
            "43821    10.0\n",
            "43822     8.0\n",
            "43823    12.0\n",
            "Name: pm2.5, Length: 43824, dtype: float64\n"
          ]
        }
      ]
    },
    {
      "cell_type": "code",
      "metadata": {
        "colab": {
          "base_uri": "https://localhost:8080/"
        },
        "id": "S5rKkXhsW1un",
        "outputId": "cb0ce091-7bad-41f8-8f5c-391be4162bc7"
      },
      "source": [
        "a=np.array(ee).min()\n",
        "print(a)\n",
        "ind=ee.index(a)\n",
        "print(ind)\n",
        "print(mm[ind],cc[ind])\n",
        "print(len(ee))\n",
        "print(\"lll\",ee[44])"
      ],
      "execution_count": 55,
      "outputs": [
        {
          "output_type": "stream",
          "name": "stdout",
          "text": [
            "250.0\n",
            "44\n",
            "54 49\n",
            "50\n",
            "lll 250.0\n"
          ]
        }
      ]
    },
    {
      "cell_type": "code",
      "metadata": {
        "colab": {
          "base_uri": "https://localhost:8080/"
        },
        "id": "H5duMXzDW58C",
        "outputId": "4ffe64a8-ef27-432b-8c08-7364c2a5e6a1"
      },
      "source": [
        "for i in range(0,50):\n",
        "  liner(i+10,i+30,i+i,i+1,i+5)"
      ],
      "execution_count": 54,
      "outputs": [
        {
          "output_type": "stream",
          "name": "stdout",
          "text": [
            "24450.0\n",
            "35820.0\n",
            "24214.0\n",
            "33456.0\n",
            "19722.0\n",
            "26836.0\n",
            "10974.0\n",
            "15960.0\n",
            "41794.0\n",
            "828.0\n",
            "24534.0\n",
            "25264.0\n",
            "3018.0\n",
            "1620.0\n",
            "21070.0\n",
            "17544.0\n",
            "34866.0\n",
            "29212.0\n",
            "582.0\n",
            "36624.0\n",
            "5866.0\n",
            "39780.0\n",
            "6894.0\n",
            "38680.0\n",
            "3666.0\n",
            "33324.0\n",
            "40006.0\n",
            "23712.0\n",
            "28266.0\n",
            "9844.0\n",
            "12270.0\n",
            "35544.0\n",
            "35842.0\n",
            "13164.0\n",
            "11334.0\n",
            "30352.0\n",
            "26394.0\n",
            "43284.0\n",
            "37198.0\n",
            "8136.0\n",
            "43746.0\n",
            "12556.0\n",
            "2214.0\n",
            "12720.0\n",
            "250.0\n",
            "8628.0\n",
            "37854.0\n",
            "280.0\n",
            "27378.0\n",
            "31500.0\n"
          ]
        }
      ]
    },
    {
      "cell_type": "code",
      "metadata": {
        "colab": {
          "base_uri": "https://localhost:8080/",
          "height": 282
        },
        "id": "DhIER_OydPfp",
        "outputId": "d60e30d3-ad6f-4e11-8020-db4dff8615a2"
      },
      "source": [
        "from matplotlib import pyplot as pt\n",
        "import numpy as np\n",
        "x=[]\n",
        "for i in range(0,50):\n",
        "  x.append(i)\n",
        "pt.plot(x,ee)"
      ],
      "execution_count": 56,
      "outputs": [
        {
          "output_type": "execute_result",
          "data": {
            "text/plain": [
              "[<matplotlib.lines.Line2D at 0x7f52ed7e6d90>]"
            ]
          },
          "metadata": {},
          "execution_count": 56
        },
        {
          "output_type": "display_data",
          "data": {
            "image/png": "[encoded data removed]",
            "text/plain": [
              "<Figure size 432x288 with 1 Axes>"
            ]
          },
          "metadata": {
            "needs_background": "light"
          }
        }
      ]
    },
    {
      "cell_type": "code",
      "metadata": {
        "colab": {
          "base_uri": "https://localhost:8080/",
          "height": 282
        },
        "id": "4JDJWSfxdUNv",
        "outputId": "f0154793-23dc-413a-db94-1a966b8b52b1"
      },
      "source": [
        "from matplotlib import pyplot as plt\n",
        "plt.scatter(x4,y)"
      ],
      "execution_count": 57,
      "outputs": [
        {
          "output_type": "execute_result",
          "data": {
            "text/plain": [
              "<matplotlib.collections.PathCollection at 0x7f52ede3f310>"
            ]
          },
          "metadata": {},
          "execution_count": 57
        },
        {
          "output_type": "display_data",
          "data": {
            "image/png": "[encoded data removed]",
            "text/plain": [
              "<Figure size 432x288 with 1 Axes>"
            ]
          },
          "metadata": {
            "needs_background": "light"
          }
        }
      ]
    },
    {
      "cell_type": "code",
      "metadata": {
        "colab": {
          "base_uri": "https://localhost:8080/"
        },
        "id": "XGWgOXntQ4cD",
        "outputId": "f1daf21e-fd41-41b8-a0e0-5cde71151097"
      },
      "source": [
        "x5=d['DEWP']\n",
        "y=d['pm2.5']\n",
        "print(x5,y)"
      ],
      "execution_count": 58,
      "outputs": [
        {
          "output_type": "stream",
          "name": "stdout",
          "text": [
            "0       -21\n",
            "1       -21\n",
            "2       -21\n",
            "3       -21\n",
            "4       -20\n",
            "         ..\n",
            "43819   -23\n",
            "43820   -22\n",
            "43821   -22\n",
            "43822   -22\n",
            "43823   -21\n",
            "Name: DEWP, Length: 43824, dtype: int64 0         NaN\n",
            "1         NaN\n",
            "2         NaN\n",
            "3         NaN\n",
            "4         NaN\n",
            "         ... \n",
            "43819     8.0\n",
            "43820    10.0\n",
            "43821    10.0\n",
            "43822     8.0\n",
            "43823    12.0\n",
            "Name: pm2.5, Length: 43824, dtype: float64\n"
          ]
        }
      ]
    },
    {
      "cell_type": "code",
      "metadata": {
        "id": "ChchwLcbdcna"
      },
      "source": [
        "ee=[]\n",
        "import numpy as np\n",
        "mm=[]\n",
        "cc=[]\n",
        "def liner(m1,m2,m3,m4,m5,c):\n",
        "  ye=[]\n",
        "  yp=[]\n",
        "  sum=0\n",
        "  mm.append(m1)\n",
        "  cc.append(c)\n",
        "  for i in range(0,len(x1)):\n",
        "    yp.append(m1*x1[i]+m2*x2[i]+m3*x3[i]+m4*x4[i]+m5*x5[i]+c)\n",
        "    ye.append((y[i]-yp[i])**2)\n",
        "  for i in range(0,len(x1)):\n",
        "    sum=sum+ye[i]\n",
        "  ee1=np.mod(sum,len(x1))\n",
        "  ee.append(ee1)\n",
        "  print(ee1)"
      ],
      "execution_count": 59,
      "outputs": []
    },
    {
      "cell_type": "code",
      "metadata": {
        "colab": {
          "base_uri": "https://localhost:8080/"
        },
        "id": "Pw4mYq0tdul6",
        "outputId": "bb0bfc83-c7a7-49b7-ff5a-c0cf55865738"
      },
      "source": [
        "y=y.fillna(0)\n",
        "print(y)"
      ],
      "execution_count": 62,
      "outputs": [
        {
          "output_type": "stream",
          "name": "stdout",
          "text": [
            "0         0.0\n",
            "1         0.0\n",
            "2         0.0\n",
            "3         0.0\n",
            "4         0.0\n",
            "         ... \n",
            "43819     8.0\n",
            "43820    10.0\n",
            "43821    10.0\n",
            "43822     8.0\n",
            "43823    12.0\n",
            "Name: pm2.5, Length: 43824, dtype: float64\n"
          ]
        }
      ]
    },
    {
      "cell_type": "code",
      "metadata": {
        "colab": {
          "base_uri": "https://localhost:8080/"
        },
        "id": "2XGyNIiedfaS",
        "outputId": "3b77e781-89d6-4241-f427-59674ed09aee"
      },
      "source": [
        "a=np.array(ee).min()\n",
        "print(a)\n",
        "ind=ee.index(a)\n",
        "print(ind)\n",
        "print(mm[ind],cc[ind])\n",
        "print(len(ee))\n",
        "print(\"lll\",ee[42])"
      ],
      "execution_count": 63,
      "outputs": [
        {
          "output_type": "stream",
          "name": "stdout",
          "text": [
            "103.0\n",
            "42\n",
            "52 51\n",
            "50\n",
            "lll 103.0\n"
          ]
        }
      ]
    },
    {
      "cell_type": "code",
      "metadata": {
        "colab": {
          "base_uri": "https://localhost:8080/"
        },
        "id": "tgJe1sfYdix2",
        "outputId": "6a26d48c-3b62-4bc0-d42f-cea6ad6c6642"
      },
      "source": [
        "for i in range(0,50):\n",
        "  liner(i+10,i+20,i+30,i+i,i+5,i+9)"
      ],
      "execution_count": 61,
      "outputs": [
        {
          "output_type": "stream",
          "name": "stdout",
          "text": [
            "30103.0\n",
            "5360.0\n",
            "12583.0\n",
            "7948.0\n",
            "35279.0\n",
            "6928.0\n",
            "10543.0\n",
            "2300.0\n",
            "26023.0\n",
            "37888.0\n",
            "37895.0\n",
            "26044.0\n",
            "2335.0\n",
            "10592.0\n",
            "6991.0\n",
            "35356.0\n",
            "8039.0\n",
            "12688.0\n",
            "5479.0\n",
            "30236.0\n",
            "43135.0\n",
            "352.0\n",
            "33359.0\n",
            "10684.0\n",
            "19975.0\n",
            "17408.0\n",
            "2983.0\n",
            "20524.0\n",
            "26207.0\n",
            "20032.0\n",
            "1999.0\n",
            "15932.0\n",
            "18007.0\n",
            "8224.0\n",
            "30407.0\n",
            "40732.0\n",
            "39199.0\n",
            "25808.0\n",
            "559.0\n",
            "7276.0\n",
            "2135.0\n",
            "28960.0\n",
            "103.0\n",
            "3212.0\n",
            "38287.0\n",
            "17680.0\n",
            "29039.0\n",
            "28540.0\n",
            "16183.0\n",
            "35792.0\n"
          ]
        }
      ]
    },
    {
      "cell_type": "code",
      "metadata": {
        "colab": {
          "base_uri": "https://localhost:8080/",
          "height": 282
        },
        "id": "wKf55iQkeyjl",
        "outputId": "dd470898-e977-4add-81ea-e9fd2d4ae55b"
      },
      "source": [
        "from matplotlib import pyplot as pt\n",
        "import numpy as np\n",
        "x=[]\n",
        "for i in range(0,50):\n",
        "  x.append(i)\n",
        "pt.plot(x,ee)"
      ],
      "execution_count": 64,
      "outputs": [
        {
          "output_type": "execute_result",
          "data": {
            "text/plain": [
              "[<matplotlib.lines.Line2D at 0x7f52ed7f0dd0>]"
            ]
          },
          "metadata": {},
          "execution_count": 64
        },
        {
          "output_type": "display_data",
          "data": {
            "image/png": "[encoded data removed]",
            "text/plain": [
              "<Figure size 432x288 with 1 Axes>"
            ]
          },
          "metadata": {
            "needs_background": "light"
          }
        }
      ]
    },
    {
      "cell_type": "code",
      "metadata": {
        "colab": {
          "base_uri": "https://localhost:8080/",
          "height": 282
        },
        "id": "oqJ8gfb6e2WT",
        "outputId": "6f53b17a-fd10-44a3-81a7-53878da9ebf7"
      },
      "source": [
        "from matplotlib import pyplot as plt\n",
        "plt.scatter(x5,y)"
      ],
      "execution_count": 65,
      "outputs": [
        {
          "output_type": "execute_result",
          "data": {
            "text/plain": [
              "<matplotlib.collections.PathCollection at 0x7f52edfc0a90>"
            ]
          },
          "metadata": {},
          "execution_count": 65
        },
        {
          "output_type": "display_data",
          "data": {
            "image/png": "[encoded data removed]",
            "text/plain": [
              "<Figure size 432x288 with 1 Axes>"
            ]
          },
          "metadata": {
            "needs_background": "light"
          }
        }
      ]
    },
    {
      "cell_type": "code",
      "metadata": {
        "colab": {
          "base_uri": "https://localhost:8080/"
        },
        "id": "xhzOC584RPVD",
        "outputId": "010adfa5-d1a3-4025-8a20-0a597c3e13ee"
      },
      "source": [
        "x6=d['TEMP']\n",
        "y=d['pm2.5']\n",
        "print(x6,y)"
      ],
      "execution_count": 66,
      "outputs": [
        {
          "output_type": "stream",
          "name": "stdout",
          "text": [
            "0       -11.0\n",
            "1       -12.0\n",
            "2       -11.0\n",
            "3       -14.0\n",
            "4       -12.0\n",
            "         ... \n",
            "43819    -2.0\n",
            "43820    -3.0\n",
            "43821    -3.0\n",
            "43822    -4.0\n",
            "43823    -3.0\n",
            "Name: TEMP, Length: 43824, dtype: float64 0         NaN\n",
            "1         NaN\n",
            "2         NaN\n",
            "3         NaN\n",
            "4         NaN\n",
            "         ... \n",
            "43819     8.0\n",
            "43820    10.0\n",
            "43821    10.0\n",
            "43822     8.0\n",
            "43823    12.0\n",
            "Name: pm2.5, Length: 43824, dtype: float64\n"
          ]
        }
      ]
    },
    {
      "cell_type": "code",
      "metadata": {
        "id": "hTMF4Lr-e_27"
      },
      "source": [
        "ee=[]\n",
        "import numpy as np\n",
        "mm=[]\n",
        "cc=[]\n",
        "def liner(m1,m2,m3,m4,m5,m6,c):\n",
        "  ye=[]\n",
        "  yp=[]\n",
        "  sum=0\n",
        "  mm.append(m1)\n",
        "  cc.append(c)\n",
        "  for i in range(0,len(x1)):\n",
        "    yp.append(m1*x1[i]+m2*x2[i]+m3*x3[i]+m4*x4[i]+m5*x5[i]+m6*x6[i]+c)\n",
        "    ye.append((y[i]-yp[i])**2)\n",
        "  for i in range(0,len(x1)):\n",
        "    sum=sum+ye[i]\n",
        "  ee1=np.mod(sum,len(x1))\n",
        "  ee.append(ee1)\n",
        "  print(ee1)"
      ],
      "execution_count": 67,
      "outputs": []
    },
    {
      "cell_type": "code",
      "metadata": {
        "colab": {
          "base_uri": "https://localhost:8080/"
        },
        "id": "Z36YGpWGfQvw",
        "outputId": "4bb946df-a5e5-40b1-943f-f50dfc976aed"
      },
      "source": [
        "y=y.fillna(0)\n",
        "print(y)"
      ],
      "execution_count": 70,
      "outputs": [
        {
          "output_type": "stream",
          "name": "stdout",
          "text": [
            "0         0.0\n",
            "1         0.0\n",
            "2         0.0\n",
            "3         0.0\n",
            "4         0.0\n",
            "         ... \n",
            "43819     8.0\n",
            "43820    10.0\n",
            "43821    10.0\n",
            "43822     8.0\n",
            "43823    12.0\n",
            "Name: pm2.5, Length: 43824, dtype: float64\n"
          ]
        }
      ]
    },
    {
      "cell_type": "code",
      "metadata": {
        "colab": {
          "base_uri": "https://localhost:8080/"
        },
        "id": "Bnuj3ulQfI7h",
        "outputId": "401ce9bf-b9dd-4456-e73c-2ae85e286118"
      },
      "source": [
        "a=np.array(ee).min()\n",
        "print(a)\n",
        "ind=ee.index(a)\n",
        "print(ind)\n",
        "print(mm[ind],cc[ind])\n",
        "print(len(ee))\n",
        "print(\"lll\",ee[13])"
      ],
      "execution_count": 71,
      "outputs": [
        {
          "output_type": "stream",
          "name": "stdout",
          "text": [
            "124.890625\n",
            "13\n",
            "23 26\n",
            "50\n",
            "lll 124.890625\n"
          ]
        }
      ]
    },
    {
      "cell_type": "code",
      "metadata": {
        "colab": {
          "base_uri": "https://localhost:8080/"
        },
        "id": "gEFngnpsfLdd",
        "outputId": "93acc723-ebe7-4e5f-8813-8222d117f8cc"
      },
      "source": [
        "for i in range(0,50):\n",
        "  liner(i+10,i+20,i+30,i+i,i+5,i+9,i+13)"
      ],
      "execution_count": 69,
      "outputs": [
        {
          "output_type": "stream",
          "name": "stdout",
          "text": [
            "6807.0\n",
            "41887.5546875\n",
            "21593.22265625\n",
            "33572.00390625\n",
            "33999.890625\n",
            "22876.890625\n",
            "203.0\n",
            "9802.2265625\n",
            "7850.5625\n",
            "38172.0078125\n",
            "13118.5625\n",
            "20338.234375\n",
            "16007.0\n",
            "124.890625\n",
            "16515.890625\n",
            "21356.015625\n",
            "14645.234375\n",
            "40207.5625\n",
            "10395.0\n",
            "12855.5625\n",
            "3765.25\n",
            "26948.0\n",
            "38579.90625\n",
            "38660.90625\n",
            "27191.0\n",
            "4170.25\n",
            "13422.5625\n",
            "11124.03125\n",
            "41098.59375\n",
            "15698.25\n",
            "22571.0\n",
            "17892.875\n",
            "1663.9375\n",
            "17708.0\n",
            "22201.25\n",
            "15143.5625\n",
            "40359.0\n",
            "10199.5625\n",
            "12313.25\n",
            "2876.0625\n",
            "25711.9375\n",
            "36996.9375\n",
            "36731.0625\n",
            "24914.25\n",
            "1546.5625\n",
            "10452.0\n",
            "7806.625\n",
            "37434.25\n",
            "11687.0\n",
            "18213.0\n"
          ]
        }
      ]
    },
    {
      "cell_type": "code",
      "metadata": {
        "colab": {
          "base_uri": "https://localhost:8080/",
          "height": 282
        },
        "id": "VLa03g_DgYPy",
        "outputId": "f1dfe50d-6046-4ea7-d614-da7ce818dba8"
      },
      "source": [
        "from matplotlib import pyplot as pt\n",
        "import numpy as np\n",
        "x=[]\n",
        "for i in range(0,50):\n",
        "  x.append(i)\n",
        "pt.plot(x,ee)"
      ],
      "execution_count": 72,
      "outputs": [
        {
          "output_type": "execute_result",
          "data": {
            "text/plain": [
              "[<matplotlib.lines.Line2D at 0x7f52ed620f50>]"
            ]
          },
          "metadata": {},
          "execution_count": 72
        },
        {
          "output_type": "display_data",
          "data": {
            "image/png": "[encoded data removed]",
            "text/plain": [
              "<Figure size 432x288 with 1 Axes>"
            ]
          },
          "metadata": {
            "needs_background": "light"
          }
        }
      ]
    },
    {
      "cell_type": "code",
      "metadata": {
        "colab": {
          "base_uri": "https://localhost:8080/",
          "height": 282
        },
        "id": "dUFUzU0ngeYj",
        "outputId": "1692de87-8016-4c4d-ec6c-3a3df08e11fd"
      },
      "source": [
        "from matplotlib import pyplot as plt\n",
        "plt.scatter(x6,y)"
      ],
      "execution_count": 73,
      "outputs": [
        {
          "output_type": "execute_result",
          "data": {
            "text/plain": [
              "<matplotlib.collections.PathCollection at 0x7f52ed539c90>"
            ]
          },
          "metadata": {},
          "execution_count": 73
        },
        {
          "output_type": "display_data",
          "data": {
            "image/png": "[encoded data removed]",
            "text/plain": [
              "<Figure size 432x288 with 1 Axes>"
            ]
          },
          "metadata": {
            "needs_background": "light"
          }
        }
      ]
    },
    {
      "cell_type": "code",
      "metadata": {
        "colab": {
          "base_uri": "https://localhost:8080/"
        },
        "id": "S350WB9dRWg9",
        "outputId": "ce03a89a-6343-44ab-c7b7-5a6cd0889ce2"
      },
      "source": [
        "x7=d['PRES']\n",
        "y=d['pm2.5']\n",
        "print(x7,y)"
      ],
      "execution_count": 74,
      "outputs": [
        {
          "output_type": "stream",
          "name": "stdout",
          "text": [
            "0        1021.0\n",
            "1        1020.0\n",
            "2        1019.0\n",
            "3        1019.0\n",
            "4        1018.0\n",
            "          ...  \n",
            "43819    1034.0\n",
            "43820    1034.0\n",
            "43821    1034.0\n",
            "43822    1034.0\n",
            "43823    1034.0\n",
            "Name: PRES, Length: 43824, dtype: float64 0         NaN\n",
            "1         NaN\n",
            "2         NaN\n",
            "3         NaN\n",
            "4         NaN\n",
            "         ... \n",
            "43819     8.0\n",
            "43820    10.0\n",
            "43821    10.0\n",
            "43822     8.0\n",
            "43823    12.0\n",
            "Name: pm2.5, Length: 43824, dtype: float64\n"
          ]
        }
      ]
    },
    {
      "cell_type": "code",
      "metadata": {
        "id": "Wi7P7G6gggl2"
      },
      "source": [
        "ee=[]\n",
        "import numpy as np\n",
        "mm=[]\n",
        "cc=[]\n",
        "def liner(m1,m2,m3,m4,m5,m6,m7,c):\n",
        "  ye=[]\n",
        "  yp=[]\n",
        "  sum=0\n",
        "  mm.append(m1)\n",
        "  cc.append(c)\n",
        "  for i in range(0,len(x1)):\n",
        "    yp.append(m1*x1[i]+m2*x2[i]+m3*x3[i]+m4*x4[i]+m5*x5[i]+m6*x6[i]+m7*x7[i]+c)\n",
        "    ye.append((y[i]-yp[i])**2)\n",
        "  for i in range(0,len(x1)):\n",
        "    sum=sum+ye[i]\n",
        "  ee1=np.mod(sum,len(x1))\n",
        "  ee.append(ee1)\n",
        "  print(ee1)"
      ],
      "execution_count": 75,
      "outputs": []
    },
    {
      "cell_type": "code",
      "metadata": {
        "colab": {
          "base_uri": "https://localhost:8080/"
        },
        "id": "giu92HZ-g7vJ",
        "outputId": "5f06c688-0f8c-48cd-b5c2-a6e19ae5c3a9"
      },
      "source": [
        "y=y.fillna(0)\n",
        "print(y)"
      ],
      "execution_count": 76,
      "outputs": [
        {
          "output_type": "stream",
          "name": "stdout",
          "text": [
            "0         0.0\n",
            "1         0.0\n",
            "2         0.0\n",
            "3         0.0\n",
            "4         0.0\n",
            "         ... \n",
            "43819     8.0\n",
            "43820    10.0\n",
            "43821    10.0\n",
            "43822     8.0\n",
            "43823    12.0\n",
            "Name: pm2.5, Length: 43824, dtype: float64\n"
          ]
        }
      ]
    },
    {
      "cell_type": "code",
      "metadata": {
        "colab": {
          "base_uri": "https://localhost:8080/"
        },
        "id": "EpAfcNvKgowA",
        "outputId": "27c1dea0-a7f6-44a1-9297-0c734fcc8c5d"
      },
      "source": [
        "a=np.array(ee).min()\n",
        "print(a)\n",
        "ind=ee.index(a)\n",
        "print(ind)\n",
        "print(mm[ind],cc[ind])\n",
        "print(len(ee))\n",
        "print(\"lll\",ee[35])\n"
      ],
      "execution_count": 78,
      "outputs": [
        {
          "output_type": "stream",
          "name": "stdout",
          "text": [
            "199.625\n",
            "35\n",
            "45 50\n",
            "50\n",
            "lll 199.625\n"
          ]
        }
      ]
    },
    {
      "cell_type": "code",
      "metadata": {
        "colab": {
          "base_uri": "https://localhost:8080/"
        },
        "id": "uxFXInjkgtBv",
        "outputId": "05b20119-b922-4fbd-e084-cd934682ba85"
      },
      "source": [
        "for i in range(0,50):\n",
        "  liner(i+10,i+20,i+30,i+i,i+5,i+9,i+13,i+15)"
      ],
      "execution_count": 77,
      "outputs": [
        {
          "output_type": "stream",
          "name": "stdout",
          "text": [
            "968.390625\n",
            "30040.453125\n",
            "34715.71875\n",
            "14994.21875\n",
            "14699.953125\n",
            "33832.890625\n",
            "28569.0625\n",
            "42732.453125\n",
            "32499.0625\n",
            "41692.875\n",
            "26489.9375\n",
            "30714.21875\n",
            "10541.71875\n",
            "9796.46875\n",
            "28478.40625\n",
            "22763.5625\n",
            "36475.9375\n",
            "25791.5625\n",
            "34534.375\n",
            "18880.4375\n",
            "22653.75\n",
            "2030.25\n",
            "834.0\n",
            "19064.875\n",
            "12899.0625\n",
            "26160.5\n",
            "15025.125\n",
            "23316.875\n",
            "7212.0\n",
            "10534.25\n",
            "33283.75\n",
            "31636.375\n",
            "5592.375\n",
            "42799.5\n",
            "11786.0\n",
            "199.625\n",
            "8040.375\n",
            "35308.5\n",
            "38179.875\n",
            "16654.25\n",
            "14556.0\n",
            "31885.0\n",
            "24817.0\n",
            "37176.5\n",
            "25139.0\n",
            "32529.0\n",
            "15522.25\n",
            "17942.25\n",
            "39789.75\n",
            "37240.25\n"
          ]
        }
      ]
    },
    {
      "cell_type": "code",
      "metadata": {
        "colab": {
          "base_uri": "https://localhost:8080/",
          "height": 282
        },
        "id": "Upd4i1NGgvxY",
        "outputId": "81b7bf6d-007d-47c3-8deb-a272ed1d5f76"
      },
      "source": [
        "from matplotlib import pyplot as pt\n",
        "import numpy as np\n",
        "x=[]\n",
        "for i in range(0,50):\n",
        "  x.append(i)\n",
        "pt.plot(x,ee)"
      ],
      "execution_count": null,
      "outputs": [
        {
          "output_type": "execute_result",
          "data": {
            "text/plain": [
              "[<matplotlib.lines.Line2D at 0x7f5dd5c26b50>]"
            ]
          },
          "metadata": {},
          "execution_count": 134
        },
        {
          "output_type": "display_data",
          "data": {
            "image/png": "[encoded data removed]",
            "text/plain": [
              "<Figure size 432x288 with 1 Axes>"
            ]
          },
          "metadata": {
            "needs_background": "light"
          }
        }
      ]
    },
    {
      "cell_type": "code",
      "metadata": {
        "colab": {
          "base_uri": "https://localhost:8080/",
          "height": 282
        },
        "id": "6-jr8l-ngyOc",
        "outputId": "25584ebc-f617-4dc3-a741-2706b3f44c64"
      },
      "source": [
        "from matplotlib import pyplot as plt\n",
        "plt.scatter(x7,y)"
      ],
      "execution_count": null,
      "outputs": [
        {
          "output_type": "execute_result",
          "data": {
            "text/plain": [
              "<matplotlib.collections.PathCollection at 0x7f5dd5c9cb50>"
            ]
          },
          "metadata": {},
          "execution_count": 135
        },
        {
          "output_type": "display_data",
          "data": {
            "image/png": "[encoded data removed]",
            "text/plain": [
              "<Figure size 432x288 with 1 Axes>"
            ]
          },
          "metadata": {
            "needs_background": "light"
          }
        }
      ]
    },
    {
      "cell_type": "code",
      "metadata": {
        "colab": {
          "base_uri": "https://localhost:8080/"
        },
        "id": "aLbBk3wXRocN",
        "outputId": "90687616-c1d5-4f83-9e9c-c60964d9653f"
      },
      "source": [
        "x8=d['Iws']\n",
        "y=d['pm2.5']\n",
        "print(x8,y)"
      ],
      "execution_count": 86,
      "outputs": [
        {
          "output_type": "stream",
          "name": "stdout",
          "text": [
            "0          1.79\n",
            "1          4.92\n",
            "2          6.71\n",
            "3          9.84\n",
            "4         12.97\n",
            "          ...  \n",
            "43819    231.97\n",
            "43820    237.78\n",
            "43821    242.70\n",
            "43822    246.72\n",
            "43823    249.85\n",
            "Name: Iws, Length: 43824, dtype: float64 0         NaN\n",
            "1         NaN\n",
            "2         NaN\n",
            "3         NaN\n",
            "4         NaN\n",
            "         ... \n",
            "43819     8.0\n",
            "43820    10.0\n",
            "43821    10.0\n",
            "43822     8.0\n",
            "43823    12.0\n",
            "Name: pm2.5, Length: 43824, dtype: float64\n"
          ]
        }
      ]
    },
    {
      "cell_type": "code",
      "metadata": {
        "colab": {
          "base_uri": "https://localhost:8080/"
        },
        "id": "q9jRSXlVimkY",
        "outputId": "6f2ef3b4-0bca-4ad9-aa34-4b5879aa6468"
      },
      "source": [
        "x8=x8.fillna(0)\n",
        "print(x8)"
      ],
      "execution_count": 87,
      "outputs": [
        {
          "output_type": "stream",
          "name": "stdout",
          "text": [
            "0          1.79\n",
            "1          4.92\n",
            "2          6.71\n",
            "3          9.84\n",
            "4         12.97\n",
            "          ...  \n",
            "43819    231.97\n",
            "43820    237.78\n",
            "43821    242.70\n",
            "43822    246.72\n",
            "43823    249.85\n",
            "Name: Iws, Length: 43824, dtype: float64\n"
          ]
        }
      ]
    },
    {
      "cell_type": "code",
      "metadata": {
        "id": "ES_xG98jh9oN"
      },
      "source": [
        "ee=[]\n",
        "import numpy as np\n",
        "mm=[]\n",
        "cc=[]\n",
        "def liner(m1,m2,m3,m4,m5,m6,m7,m8,c):\n",
        "  ye=[]\n",
        "  yp=[]\n",
        "  sum=0\n",
        "  mm.append(m1)\n",
        "  cc.append(c)\n",
        "  for i in range(0,len(x1)):\n",
        "    yp.append(m1*x1[i]+m2*x2[i]+m3*x3[i]+m4*x4[i]+m5*x5[i]+m6*x6[i]+m7*x7[i]+m8*x8[i]+c)\n",
        "    ye.append((y[i]-yp[i])**2)\n",
        "  for i in range(0,len(x1)):\n",
        "    sum=sum+ye[i]\n",
        "  ee1=np.mod(sum,len(x1))\n",
        "  ee.append(ee1)\n",
        "  print(ee1)"
      ],
      "execution_count": 89,
      "outputs": []
    },
    {
      "cell_type": "code",
      "metadata": {
        "colab": {
          "base_uri": "https://localhost:8080/"
        },
        "id": "FKmP7mP6h9Ya",
        "outputId": "d75c70d4-8185-4f6e-d5dc-1cd89a049750"
      },
      "source": [
        "y=y.fillna(0)\n",
        "print(y)"
      ],
      "execution_count": 90,
      "outputs": [
        {
          "output_type": "stream",
          "name": "stdout",
          "text": [
            "0         0.0\n",
            "1         0.0\n",
            "2         0.0\n",
            "3         0.0\n",
            "4         0.0\n",
            "         ... \n",
            "43819     8.0\n",
            "43820    10.0\n",
            "43821    10.0\n",
            "43822     8.0\n",
            "43823    12.0\n",
            "Name: pm2.5, Length: 43824, dtype: float64\n"
          ]
        }
      ]
    },
    {
      "cell_type": "code",
      "metadata": {
        "id": "DTQxsK1Oh83-",
        "colab": {
          "base_uri": "https://localhost:8080/"
        },
        "outputId": "dd9a2e50-f6f0-423a-9207-3f75d1d2f92a"
      },
      "source": [
        "a=np.array(ee).min()\n",
        "print(a)\n",
        "ind=ee.index(a)\n",
        "print(ind)\n",
        "print(mm[ind],cc[ind])\n",
        "print(len(ee))\n",
        "print(\"lll\",ee[8])"
      ],
      "execution_count": 93,
      "outputs": [
        {
          "output_type": "stream",
          "name": "stdout",
          "text": [
            "491.09375\n",
            "8\n",
            "18 28\n",
            "50\n",
            "lll 491.09375\n"
          ]
        }
      ]
    },
    {
      "cell_type": "code",
      "metadata": {
        "colab": {
          "base_uri": "https://localhost:8080/"
        },
        "id": "9h4w-ac0iLEj",
        "outputId": "eede0798-417c-430e-bef7-71e5a4c76a8b"
      },
      "source": [
        "for i in range(0,50):\n",
        "  liner(i+10,i+20,i+30,i+i,i+5,i+9,i+13,i+15,i+20)"
      ],
      "execution_count": 91,
      "outputs": [
        {
          "output_type": "stream",
          "name": "stdout",
          "text": [
            "27242.078125\n",
            "14435.6640625\n",
            "15288.015625\n",
            "29800.71875\n",
            "14148.9375\n",
            "12158.6875\n",
            "23825.328125\n",
            "5326.65625\n",
            "491.09375\n",
            "9313.90625\n",
            "31797.53125\n",
            "24114.5\n",
            "30095.15625\n",
            "5910.1875\n",
            "39206.46875\n",
            "42337.6875\n",
            "15306.4375\n",
            "1938.5625\n",
            "2232.1875\n",
            "16179.9375\n",
            "43790.625\n",
            "41228.125\n",
            "8510.25\n",
            "33272.9375\n",
            "27874.1875\n",
            "36132.4375\n",
            "14224.0\n",
            "5979.25\n",
            "11396.0\n",
            "30460.75\n",
            "19347.75\n",
            "21943.75\n",
            "38182.375\n",
            "24245.625\n",
            "23970.75\n",
            "37354.75\n",
            "20564.25\n",
            "17463.5\n",
            "28006.25\n",
            "8369.625\n",
            "2368.0\n",
            "10109.25\n",
            "31456.75\n",
            "22642.75\n",
            "27483.0\n",
            "2156.0\n",
            "34355.25\n",
            "36348.5\n",
            "8165.75\n",
            "37516.5\n"
          ]
        }
      ]
    },
    {
      "cell_type": "code",
      "metadata": {
        "colab": {
          "base_uri": "https://localhost:8080/",
          "height": 282
        },
        "id": "OdcqoDK2iOI-",
        "outputId": "b046b426-959e-4c91-a6e7-8aaaa82006d6"
      },
      "source": [
        "from matplotlib import pyplot as pt\n",
        "import numpy as np\n",
        "x=[]\n",
        "for i in range(0,50):\n",
        "  x.append(i)\n",
        "pt.plot(x,ee)"
      ],
      "execution_count": 94,
      "outputs": [
        {
          "output_type": "execute_result",
          "data": {
            "text/plain": [
              "[<matplotlib.lines.Line2D at 0x7f52ed573090>]"
            ]
          },
          "metadata": {},
          "execution_count": 94
        },
        {
          "output_type": "display_data",
          "data": {
            "image/png": "[encoded data removed]",
            "text/plain": [
              "<Figure size 432x288 with 1 Axes>"
            ]
          },
          "metadata": {
            "needs_background": "light"
          }
        }
      ]
    },
    {
      "cell_type": "code",
      "metadata": {
        "colab": {
          "base_uri": "https://localhost:8080/",
          "height": 282
        },
        "id": "mcPWOvUIiPuY",
        "outputId": "798198b9-1f79-4623-a08f-335bc91ef079"
      },
      "source": [
        "from matplotlib import pyplot as plt\n",
        "plt.scatter(x8,y)"
      ],
      "execution_count": 95,
      "outputs": [
        {
          "output_type": "execute_result",
          "data": {
            "text/plain": [
              "<matplotlib.collections.PathCollection at 0x7f52ed4bfe50>"
            ]
          },
          "metadata": {},
          "execution_count": 95
        },
        {
          "output_type": "display_data",
          "data": {
            "image/png": "[encoded data removed]",
            "text/plain": [
              "<Figure size 432x288 with 1 Axes>"
            ]
          },
          "metadata": {
            "needs_background": "light"
          }
        }
      ]
    },
    {
      "cell_type": "code",
      "metadata": {
        "colab": {
          "base_uri": "https://localhost:8080/"
        },
        "id": "49FT8AuHRu69",
        "outputId": "2d48a52a-9774-43b8-c38e-0f3caf5760c8"
      },
      "source": [
        "x9=d['Is']\n",
        "y=d['pm2.5']\n",
        "print(x9,y)"
      ],
      "execution_count": 100,
      "outputs": [
        {
          "output_type": "stream",
          "name": "stdout",
          "text": [
            "0        0\n",
            "1        0\n",
            "2        0\n",
            "3        0\n",
            "4        0\n",
            "        ..\n",
            "43819    0\n",
            "43820    0\n",
            "43821    0\n",
            "43822    0\n",
            "43823    0\n",
            "Name: Is, Length: 43824, dtype: int64 0         NaN\n",
            "1         NaN\n",
            "2         NaN\n",
            "3         NaN\n",
            "4         NaN\n",
            "         ... \n",
            "43819     8.0\n",
            "43820    10.0\n",
            "43821    10.0\n",
            "43822     8.0\n",
            "43823    12.0\n",
            "Name: pm2.5, Length: 43824, dtype: float64\n"
          ]
        }
      ]
    },
    {
      "cell_type": "code",
      "metadata": {
        "colab": {
          "base_uri": "https://localhost:8080/"
        },
        "id": "gtyw0ewk0Sch",
        "outputId": "8c8b2387-f5b2-4c14-f5e5-a3de3fa950cb"
      },
      "source": [
        "x9=x9.fillna(0)\n",
        "print(x9)"
      ],
      "execution_count": 101,
      "outputs": [
        {
          "output_type": "stream",
          "name": "stdout",
          "text": [
            "0        0\n",
            "1        0\n",
            "2        0\n",
            "3        0\n",
            "4        0\n",
            "        ..\n",
            "43819    0\n",
            "43820    0\n",
            "43821    0\n",
            "43822    0\n",
            "43823    0\n",
            "Name: Is, Length: 43824, dtype: int64\n"
          ]
        }
      ]
    },
    {
      "cell_type": "code",
      "metadata": {
        "id": "vRiHLX81jUIz"
      },
      "source": [
        "ee=[]\n",
        "import numpy as np\n",
        "mm=[]\n",
        "cc=[]\n",
        "def liner(m1,m2,m3,m4,m5,m6,m7,m8,m9,c):\n",
        "  ye=[]\n",
        "  yp=[]\n",
        "  sum=0\n",
        "  mm.append(m1)\n",
        "  cc.append(c)\n",
        "  for i in range(0,len(x1)):\n",
        "    yp.append(m1*x1[i]+m2*x2[i]+m3*x3[i]+m4*x4[i]+m5*x5[i]+m6*x6[i]+m7*x7[i]+m8*x8[i]+m9*x9[i]+c)\n",
        "    ye.append((y[i]-yp[i])**2)\n",
        "  for i in range(0,len(x1)):\n",
        "    sum=sum+ye[i]\n",
        "  ee1=np.mod(sum,len(x1))\n",
        "  ee.append(ee1)\n",
        "  print(ee1)"
      ],
      "execution_count": 102,
      "outputs": []
    },
    {
      "cell_type": "code",
      "metadata": {
        "colab": {
          "base_uri": "https://localhost:8080/"
        },
        "id": "mlSVlFDqjj7D",
        "outputId": "40db3fb7-c3e8-45a4-89d0-73c5c4d9c72c"
      },
      "source": [
        "y=y.fillna(0)\n",
        "print(y)"
      ],
      "execution_count": 103,
      "outputs": [
        {
          "output_type": "stream",
          "name": "stdout",
          "text": [
            "0         0.0\n",
            "1         0.0\n",
            "2         0.0\n",
            "3         0.0\n",
            "4         0.0\n",
            "         ... \n",
            "43819     8.0\n",
            "43820    10.0\n",
            "43821    10.0\n",
            "43822     8.0\n",
            "43823    12.0\n",
            "Name: pm2.5, Length: 43824, dtype: float64\n"
          ]
        }
      ]
    },
    {
      "cell_type": "code",
      "metadata": {
        "id": "nradOV7Gjh6q",
        "colab": {
          "base_uri": "https://localhost:8080/"
        },
        "outputId": "2b3e5670-6569-4965-a8be-d450c7eee860"
      },
      "source": [
        "a=np.array(ee).min()\n",
        "print(a)\n",
        "ind=ee.index(a)\n",
        "print(ind)\n",
        "print(mm[ind],cc[ind])\n",
        "print(len(ee))\n",
        "print(\"lll\",ee[36])"
      ],
      "execution_count": 106,
      "outputs": [
        {
          "output_type": "stream",
          "name": "stdout",
          "text": [
            "1803.25\n",
            "36\n",
            "46 61\n",
            "50\n",
            "lll 1803.25\n"
          ]
        }
      ]
    },
    {
      "cell_type": "code",
      "metadata": {
        "id": "rY1pHrRUjuLS",
        "colab": {
          "base_uri": "https://localhost:8080/"
        },
        "outputId": "a9dc66d9-7ad7-4298-b433-4aeb58ab2a6c"
      },
      "source": [
        "for i in range(0,50):\n",
        "  liner(i+10,i+20,i+30,i+i,i+5,i+9,i+13,i+15,i+20,i+25)"
      ],
      "execution_count": 104,
      "outputs": [
        {
          "output_type": "stream",
          "name": "stdout",
          "text": [
            "6309.5703125\n",
            "32434.4609375\n",
            "6626.078125\n",
            "16534.53125\n",
            "18332.484375\n",
            "12025.671875\n",
            "41432.109375\n",
            "18904.671875\n",
            "32093.3125\n",
            "37175.375\n",
            "34149.0625\n",
            "23010.9375\n",
            "3769.65625\n",
            "20240.65625\n",
            "28606.78125\n",
            "28858.75\n",
            "21009.375\n",
            "5047.875\n",
            "24801.875\n",
            "36446.375\n",
            "39990.125\n",
            "35414.75\n",
            "22734.8125\n",
            "1946.5625\n",
            "16876.6875\n",
            "23695.4375\n",
            "22404.75\n",
            "13009.5\n",
            "39325.0\n",
            "13717.875\n",
            "23783.0\n",
            "25797.125\n",
            "19693.375\n",
            "5470.875\n",
            "26953.375\n",
            "40347.75\n",
            "1803.25\n",
            "42790.375\n",
            "31852.25\n",
            "12808.125\n",
            "29427.5\n",
            "38030.5\n",
            "38483.25\n",
            "30803.0\n",
            "15034.75\n",
            "34967.0\n",
            "2999.25\n",
            "6732.0\n",
            "2341.0\n",
            "33696.5\n"
          ]
        }
      ]
    },
    {
      "cell_type": "code",
      "metadata": {
        "id": "arjQMB0sjxV7",
        "colab": {
          "base_uri": "https://localhost:8080/",
          "height": 282
        },
        "outputId": "52370487-4b9a-4972-a8e0-00d72ce4ef24"
      },
      "source": [
        "from matplotlib import pyplot as pt\n",
        "import numpy as np\n",
        "x=[]\n",
        "for i in range(0,50):\n",
        "  x.append(i)\n",
        "pt.plot(x,ee)"
      ],
      "execution_count": 107,
      "outputs": [
        {
          "output_type": "execute_result",
          "data": {
            "text/plain": [
              "[<matplotlib.lines.Line2D at 0x7f52ed475f10>]"
            ]
          },
          "metadata": {},
          "execution_count": 107
        },
        {
          "output_type": "display_data",
          "data": {
            "image/png": "[encoded data removed]",
            "text/plain": [
              "<Figure size 432x288 with 1 Axes>"
            ]
          },
          "metadata": {
            "needs_background": "light"
          }
        }
      ]
    },
    {
      "cell_type": "code",
      "metadata": {
        "id": "B5Y1-rhrj1Zj",
        "colab": {
          "base_uri": "https://localhost:8080/",
          "height": 282
        },
        "outputId": "4d2ec750-f074-44ec-f691-8d85ca191226"
      },
      "source": [
        "from matplotlib import pyplot as plt\n",
        "plt.scatter(x9,y)"
      ],
      "execution_count": 108,
      "outputs": [
        {
          "output_type": "execute_result",
          "data": {
            "text/plain": [
              "<matplotlib.collections.PathCollection at 0x7f52ed3bcd10>"
            ]
          },
          "metadata": {},
          "execution_count": 108
        },
        {
          "output_type": "display_data",
          "data": {
            "image/png": "[encoded data removed]",
            "text/plain": [
              "<Figure size 432x288 with 1 Axes>"
            ]
          },
          "metadata": {
            "needs_background": "light"
          }
        }
      ]
    },
    {
      "cell_type": "code",
      "metadata": {
        "colab": {
          "base_uri": "https://localhost:8080/"
        },
        "id": "rAwZQrOpR-sv",
        "outputId": "240120d4-045a-4311-f03e-0cf735a4554c"
      },
      "source": [
        "x10=d['Ir']\n",
        "y=d['pm2.5']\n",
        "print(x10,y)"
      ],
      "execution_count": 116,
      "outputs": [
        {
          "output_type": "stream",
          "name": "stdout",
          "text": [
            "0        0\n",
            "1        0\n",
            "2        0\n",
            "3        0\n",
            "4        0\n",
            "        ..\n",
            "43819    0\n",
            "43820    0\n",
            "43821    0\n",
            "43822    0\n",
            "43823    0\n",
            "Name: Ir, Length: 43824, dtype: int64 0         NaN\n",
            "1         NaN\n",
            "2         NaN\n",
            "3         NaN\n",
            "4         NaN\n",
            "         ... \n",
            "43819     8.0\n",
            "43820    10.0\n",
            "43821    10.0\n",
            "43822     8.0\n",
            "43823    12.0\n",
            "Name: pm2.5, Length: 43824, dtype: float64\n"
          ]
        }
      ]
    },
    {
      "cell_type": "code",
      "metadata": {
        "colab": {
          "base_uri": "https://localhost:8080/"
        },
        "id": "oAPuL-0u1WY6",
        "outputId": "25c69b82-0882-47ca-ff27-f54ed86c7826"
      },
      "source": [
        "x10=x10.fillna(0)\n",
        "print(x10)"
      ],
      "execution_count": 117,
      "outputs": [
        {
          "output_type": "stream",
          "name": "stdout",
          "text": [
            "0        0\n",
            "1        0\n",
            "2        0\n",
            "3        0\n",
            "4        0\n",
            "        ..\n",
            "43819    0\n",
            "43820    0\n",
            "43821    0\n",
            "43822    0\n",
            "43823    0\n",
            "Name: Ir, Length: 43824, dtype: int64\n"
          ]
        }
      ]
    },
    {
      "cell_type": "code",
      "metadata": {
        "id": "RgA1vKGSkInf"
      },
      "source": [
        "ee=[]\n",
        "import numpy as np\n",
        "mm=[]\n",
        "cc=[]\n",
        "def liner(m1,m2,m3,m4,m5,m6,m7,m8,m9,m10,c):\n",
        "  ye=[]\n",
        "  yp=[]\n",
        "  sum=0\n",
        "  mm.append(m1)\n",
        "  cc.append(c)\n",
        "  for i in range(0,len(x1)):\n",
        "    yp.append(m1*x1[i]+m2*x2[i]+m3*x3[i]+m4*x4[i]+m5*x5[i]+m6*x6[i]+m7*x7[i]+m8*x8[i]+m9*x9[i]+m10*x10[i]+c)\n",
        "    ye.append((y[i]-yp[i])**2)\n",
        "  for i in range(0,len(x1)):\n",
        "    sum=sum+ye[i]\n",
        "  ee1=np.mod(sum,len(x1))\n",
        "  ee.append(ee1)\n",
        "  print(ee1)\n"
      ],
      "execution_count": 118,
      "outputs": []
    },
    {
      "cell_type": "code",
      "metadata": {
        "colab": {
          "base_uri": "https://localhost:8080/"
        },
        "id": "g0dekN4P1sdr",
        "outputId": "1316e21b-a35d-4b29-a174-da85cbd550bd"
      },
      "source": [
        "\n",
        "y=y.fillna(0)\n",
        "print(y)"
      ],
      "execution_count": 119,
      "outputs": [
        {
          "output_type": "stream",
          "name": "stdout",
          "text": [
            "0         0.0\n",
            "1         0.0\n",
            "2         0.0\n",
            "3         0.0\n",
            "4         0.0\n",
            "         ... \n",
            "43819     8.0\n",
            "43820    10.0\n",
            "43821    10.0\n",
            "43822     8.0\n",
            "43823    12.0\n",
            "Name: pm2.5, Length: 43824, dtype: float64\n"
          ]
        }
      ]
    },
    {
      "cell_type": "code",
      "metadata": {
        "id": "fm3kdbxkkIaY",
        "colab": {
          "base_uri": "https://localhost:8080/"
        },
        "outputId": "d00dcdd7-4b95-4f12-c752-d8b936e6de26"
      },
      "source": [
        "a=np.array(ee).min()\n",
        "print(a)\n",
        "ind=ee.index(a)\n",
        "print(ind)\n",
        "print(mm[ind],cc[ind])\n",
        "print(len(ee))\n",
        "print(\"lll\",ee[32])\n"
      ],
      "execution_count": 122,
      "outputs": [
        {
          "output_type": "stream",
          "name": "stdout",
          "text": [
            "825.25\n",
            "32\n",
            "42 58\n",
            "50\n",
            "lll 825.25\n"
          ]
        }
      ]
    },
    {
      "cell_type": "code",
      "metadata": {
        "id": "62mw3fvskIPc",
        "colab": {
          "base_uri": "https://localhost:8080/"
        },
        "outputId": "462a822d-bc51-4fd4-bd40-e150d220317d"
      },
      "source": [
        "for i in range(0,50):\n",
        "  liner(i+10,i+20,i+30,i+i,i+5,i+9,i+13,i+15,i+20,i+25,i+26)"
      ],
      "execution_count": 120,
      "outputs": [
        {
          "output_type": "stream",
          "name": "stdout",
          "text": [
            "35285.9375\n",
            "26730.9375\n",
            "24842.125\n",
            "29620.828125\n",
            "41066.78125\n",
            "15356.234375\n",
            "40138.0625\n",
            "27760.234375\n",
            "22051.0625\n",
            "23011.96875\n",
            "30637.03125\n",
            "1105.59375\n",
            "22064.8125\n",
            "5872.8125\n",
            "40164.78125\n",
            "37302.625\n",
            "41110.125\n",
            "7759.25\n",
            "24910.5\n",
            "4887.5\n",
            "35370.0625\n",
            "28678.3125\n",
            "28670.875\n",
            "35321.6875\n",
            "4822.125\n",
            "24816.9375\n",
            "7637.0\n",
            "40968.625\n",
            "37134.125\n",
            "39966.125\n",
            "5622.75\n",
            "21809.0\n",
            "825.25\n",
            "30325.25\n",
            "22673.375\n",
            "21686.75\n",
            "27362.0\n",
            "39716.75\n",
            "14908.75\n",
            "40599.25\n",
            "29088.25\n",
            "24323.0\n",
            "26175.75\n",
            "34696.75\n",
            "6049.75\n",
            "27930.25\n",
            "12628.5\n",
            "4014.25\n",
            "2043.25\n",
            "6766.25\n"
          ]
        }
      ]
    },
    {
      "cell_type": "code",
      "metadata": {
        "id": "w4BfgaqNkIBn",
        "colab": {
          "base_uri": "https://localhost:8080/",
          "height": 282
        },
        "outputId": "91e96d1b-7563-4dce-dacd-67e06361d5d7"
      },
      "source": [
        "from matplotlib import pyplot as pt\n",
        "import numpy as np\n",
        "x=[]\n",
        "for i in range(0,50):\n",
        "  x.append(i)\n",
        "pt.plot(x,ee)"
      ],
      "execution_count": 123,
      "outputs": [
        {
          "output_type": "execute_result",
          "data": {
            "text/plain": [
              "[<matplotlib.lines.Line2D at 0x7f52ed1875d0>]"
            ]
          },
          "metadata": {},
          "execution_count": 123
        },
        {
          "output_type": "display_data",
          "data": {
            "image/png": "[encoded data removed]",
            "text/plain": [
              "<Figure size 432x288 with 1 Axes>"
            ]
          },
          "metadata": {
            "needs_background": "light"
          }
        }
      ]
    },
    {
      "cell_type": "code",
      "metadata": {
        "id": "NIqnmBgRkeKS",
        "colab": {
          "base_uri": "https://localhost:8080/",
          "height": 282
        },
        "outputId": "9cd1c77d-628c-4e30-85a7-64a70bf2eb42"
      },
      "source": [
        "from matplotlib import pyplot as plt\n",
        "plt.scatter(x10,y)"
      ],
      "execution_count": 124,
      "outputs": [
        {
          "output_type": "execute_result",
          "data": {
            "text/plain": [
              "<matplotlib.collections.PathCollection at 0x7f52ed159f90>"
            ]
          },
          "metadata": {},
          "execution_count": 124
        },
        {
          "output_type": "display_data",
          "data": {
            "image/png": "[encoded data removed]",
            "text/plain": [
              "<Figure size 432x288 with 1 Axes>"
            ]
          },
          "metadata": {
            "needs_background": "light"
          }
        }
      ]
    }
  ]
}