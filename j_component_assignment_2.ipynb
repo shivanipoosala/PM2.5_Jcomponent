{
  "nbformat": 4,
  "nbformat_minor": 0,
  "metadata": {
    "colab": {
      "name": "j component_assignment-2",
      "provenance": []
    },
    "kernelspec": {
      "name": "python3",
      "display_name": "Python 3"
    },
    "language_info": {
      "name": "python"
    }
  },
  "cells": [
    {
      "cell_type": "code",
      "metadata": {
        "colab": {
          "base_uri": "https://localhost:8080/"
        },
        "id": "JZZSdoid6BVg",
        "outputId": "6ad0c4bd-b040-4ea9-81fb-dd9662c96281"
      },
      "source": [
        "import numpy as np\n",
        "  \n",
        "x1=[3.2,3.2,3.7,3.9,4,4,4.1,4.5,4.9,5.1,5.3,5.9,6]\n",
        "y=[54445,64445,57189,63218,55794,56957,57081,61111,67938,66029,83088,81363,93940]\n",
        "yp=[]\n",
        "e=[]\n",
        "\n",
        "m=[1235,1500,1850,2000]\n",
        "c=[1900,1950,2000,2100]\n",
        "\n",
        "def linear(m,c):\n",
        "  sum=0\n",
        "\n",
        "  for i in range(0,len(x1)):\n",
        "    yp.append(m*x1[i]+c)\n",
        "    g=(y[i]-yp[i])**2\n",
        "    sum=sum+g\n",
        "    e.append(g)\n",
        "    print('meam square error is :',np.mod(sum,len(x1)))\n",
        "    sum=0    \n",
        "\n",
        "\n",
        "for i in range(0,1):\n",
        "   linear(m[i],c[i])"
      ],
      "execution_count": 1,
      "outputs": [
        {
          "output_type": "stream",
          "name": "stdout",
          "text": [
            "meam square error is : 1.0\n",
            "meam square error is : 4.0\n",
            "meam square error is : 3.25\n",
            "meam square error is : 12.25\n",
            "meam square error is : 3\n",
            "meam square error is : 4\n",
            "meam square error is : 6.25\n",
            "meam square error is : 6.25\n",
            "meam square error is : 7.25\n",
            "meam square error is : 3.25\n",
            "meam square error is : 12.25\n",
            "meam square error is : 0.25\n",
            "meam square error is : 0\n"
          ]
        }
      ]
    }
  ]
}